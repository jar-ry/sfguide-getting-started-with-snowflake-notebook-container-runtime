{
 "metadata": {
  "kernelspec": {
   "display_name": "Streamlit Notebook",
   "name": "streamlit"
  },
  "lastEditStatus": {
   "notebookId": "4iiyv4m2quyo2a2rn3li",
   "authorId": "6363208213288",
   "authorName": "JARCHEN",
   "authorEmail": "jarry.chen@snowflake.com",
   "sessionId": "c14a5b64-88c3-430e-8d2e-18b3b7e7c0ef",
   "lastEditTime": 1750735419530
  }
 },
 "nbformat_minor": 5,
 "nbformat": 4,
 "cells": [
  {
   "cell_type": "markdown",
   "id": "07e67d82-cb27-4518-b025-b74c117c5637",
   "metadata": {
    "collapsed": false,
    "name": "Overview_md"
   },
   "source": [
    "# Welcome to the Notebooks Container Runtime!\n",
    "\n",
    "In this notebook, we will go through the basics of using Notebooks Container Runtime. We will install packages, load data, train a model, and look at logs. "
   ]
  },
  {
   "cell_type": "code",
   "execution_count": null,
   "id": "2a609d6f-f3de-4b32-9731-1411db287f9f",
   "metadata": {
    "collapsed": false,
    "language": "python",
    "name": "create_session"
   },
   "outputs": [],
   "source": "import warnings\nwarnings.filterwarnings(\"ignore\")\n\nfrom snowflake.snowpark.context import get_active_session\nsession = get_active_session()\n\n# Add a query tag to the session. This helps with debugging and performance monitoring.\nsession.query_tag = {\"origin\":\"sf_sit-is\", \"name\":\"aiml_notebooks_container_runtime\", \"version\":{\"major\":1, \"minor\":0}, \"attributes\":{\"is_quickstart\":1, \"source\":\"notebook\"}}\n\n# Print the current role, warehouse, and database/schema\nprint(f\"role: {session.get_current_role()} | WH: {session.get_current_warehouse()} | DB.SCHEMA: {session.get_fully_qualified_current_schema()}\")"
  },
  {
   "cell_type": "markdown",
   "id": "93258291-3823-45d5-8703-aa4e5b5b013e",
   "metadata": {
    "collapsed": false,
    "name": "installed_packages_md"
   },
   "source": [
    "The Container Runtime for Snowflake Notebooks includes pre-installed common packages including SnowparkML and other OSS packages."
   ]
  },
  {
   "cell_type": "code",
   "execution_count": null,
   "id": "e6b51bc3-e121-4b6c-a84f-20f04eb1f28a",
   "metadata": {
    "collapsed": false,
    "language": "python",
    "name": "pip_freeze"
   },
   "outputs": [],
   "source": [
    "!pip freeze"
   ]
  },
  {
   "cell_type": "markdown",
   "id": "507dda4f-a92a-4144-b715-3c9a5b994eb7",
   "metadata": {
    "collapsed": false,
    "name": "pip_install_md"
   },
   "source": [
    "Notebooks Container Runtime, along with External Access Integrations give us the flexibility to `pip install` packages from anywhere, including popular package repositories such as pypi. You can install whatever packages you need by running `!pip install <package_name>` directly in the Notebook.\n",
    "\n",
    "We have configured this notebook to allow pypi urls with an External Access Integration. "
   ]
  },
  {
   "cell_type": "code",
   "execution_count": null,
   "id": "01982269-5dac-46a6-8af6-2b495e65862f",
   "metadata": {
    "collapsed": false,
    "language": "python",
    "name": "pip_install"
   },
   "outputs": [],
   "source": "!pip install azure-storage-blob"
  },
  {
   "cell_type": "code",
   "id": "bd089fcb-9d03-4df6-9c87-f868f90b4b04",
   "metadata": {
    "language": "python",
    "name": "cell1"
   },
   "outputs": [],
   "source": "!pip install seaborn",
   "execution_count": null
  },
  {
   "cell_type": "markdown",
   "id": "ce5d7e1e-2323-428b-ad5d-dbab1b0f34a8",
   "metadata": {
    "name": "sql_command_md"
   },
   "source": [
    "Just like Notebooks on the Warehouse Runtime, we can intermingle both SQL and Python cells:"
   ]
  },
  {
   "cell_type": "code",
   "execution_count": null,
   "id": "78126cdd-9f6e-4524-ac92-b12d915255ae",
   "metadata": {
    "collapsed": false,
    "language": "sql",
    "name": "sql_command"
   },
   "outputs": [],
   "source": [
    "show tables;"
   ]
  },
  {
   "cell_type": "markdown",
   "id": "b43cb438-746d-476d-8d00-a5fc4cd67648",
   "metadata": {
    "collapsed": false,
    "name": "visualize_md"
   },
   "source": [
    "Let's visualize some of our data using the `seaborn` package that we installed above:"
   ]
  },
  {
   "cell_type": "code",
   "execution_count": null,
   "id": "23f0f888-3d70-42c4-9071-bc366c861a52",
   "metadata": {
    "collapsed": false,
    "language": "python",
    "name": "load_dataframe"
   },
   "outputs": [],
   "source": [
    "diamonds_df = session.table(\"DIAMONDS\")\n",
    "diamonds_df.show()"
   ]
  },
  {
   "cell_type": "code",
   "execution_count": null,
   "id": "63e2849a-df59-45d2-81e1-14b7880601fc",
   "metadata": {
    "collapsed": false,
    "language": "python",
    "name": "visualize"
   },
   "outputs": [],
   "source": [
    "from snowflake.ml.data.data_connector import DataConnector\n",
    "data_connector = DataConnector.from_dataframe(diamonds_df)\n",
    "df = data_connector.to_pandas()\n",
    "\n",
    "import seaborn as sns\n",
    "\n",
    "# Create a visualization\n",
    "sns.histplot(\n",
    "    data=df,\n",
    "    x=\"PRICE\"\n",
    ")"
   ]
  },
  {
   "cell_type": "markdown",
   "id": "3020ac4d-058f-49aa-9686-ca0558d1a97b",
   "metadata": {
    "collapsed": false,
    "name": "train_xgboost_md"
   },
   "source": [
    "Now, let's train a basic `XGBRegressor` machine learning model. The ML Container Runtime for Snowflake Notebooks includes pre-installed common packages for doing machine learning tasks, including SnowparkML and other OSS packages."
   ]
  },
  {
   "cell_type": "code",
   "execution_count": null,
   "id": "53aad007-803a-4120-b227-596caa842cba",
   "metadata": {
    "codeCollapsed": false,
    "collapsed": false,
    "language": "python",
    "name": "train_xgboost"
   },
   "outputs": [],
   "source": [
    "import time\n",
    "from xgboost import XGBRegressor\n",
    "\n",
    "CATEGORICAL_COLUMNS = [\"CUT\", \"COLOR\", \"CLARITY\"]\n",
    "NUMERICAL_COLUMNS = [\"CARAT\", \"DEPTH\", \"X\", \"Y\", \"Z\"]\n",
    "LABEL_COLUMNS = ['PRICE']\n",
    "\n",
    "model = XGBRegressor(max_depth=400)\n",
    "\n",
    "t0 = time.time()\n",
    "model.fit(df[NUMERICAL_COLUMNS], df[LABEL_COLUMNS])\n",
    "t1 = time.time()\n",
    "\n",
    "print(f\"Fit in {t1-t0} seconds.\")"
   ]
  }
 ]
}